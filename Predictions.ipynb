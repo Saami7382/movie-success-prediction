{
 "cells": [
  {
   "cell_type": "code",
   "execution_count": null,
   "id": "0d1fa876",
   "metadata": {},
   "outputs": [],
   "source": [
    "import numpy as np\n",
    "import pandas as pd\n",
    "import statistics\n",
    "from sklearn.preprocessing import StandardScaler\n",
    "from sklearn.model_selection import train_test_split\n",
    "from sklearn.linear_model import LogisticRegression\n",
    "from sklearn.neighbors import KNeighborsClassifier\n",
    "from sklearn.ensemble import RandomForestClassifier\n",
    "from sklearn.tree import DecisionTreeClassifier\n",
    "from sklearn.metrics import confusion_matrix, precision_score, accuracy_score\n",
    "from sklearn.metrics import recall_score, classification_report"
   ]
  },
  {
   "cell_type": "code",
   "execution_count": null,
   "id": "224f078c",
   "metadata": {},
   "outputs": [],
   "source": [
    "#Importing Dataset\n",
    "\n",
    "data = pd.read_csv('PredictDataset.csv', sep=\",\")\n",
    "df = data.copy()\n",
    "\n",
    "df2 = pd.read_csv('PredictInput.csv', sep=\",\")\n",
    "sf = df2[df2.columns[1:38]]"
   ]
  },
  {
   "cell_type": "code",
   "execution_count": null,
   "id": "755f7565",
   "metadata": {},
   "outputs": [],
   "source": [
    "#Splitting Training and Testing Dataset\n",
    "\n",
    "X = data[data.columns[1:38]]\n",
    "Y = data.iloc[:,-1]\n",
    "\n",
    "xtrain, xtest, ytrain, ytest = train_test_split(X, Y, test_size=0.25, train_size=0.75)"
   ]
  },
  {
   "cell_type": "code",
   "execution_count": null,
   "id": "a21675c9",
   "metadata": {},
   "outputs": [],
   "source": [
    "#Logistic Regression\n",
    "\n",
    "lr = LogisticRegression().fit(xtrain, ytrain)\n",
    "\n",
    "pred_lr = lr.predict(xtest)\n",
    "\n",
    "xt = xtest.copy()\n",
    "xt['pred'] = pred_lr\n",
    "xt['actual'] = ytest\n",
    "accuracy_lr = accuracy_score(ytest,pred_lr)\n",
    "pred1 = lr.predict(sf)\n",
    "\n",
    "print(\"\\nAccuracy for Logistic Regression: {}\".format(accuracy_lr*100))\n",
    "print(\"\\nClassification Report: \\n\",classification_report(ytest,pred_lr))\n",
    "print(\"\\nPrediction using LR: {}\".format(pred1))"
   ]
  },
  {
   "cell_type": "code",
   "execution_count": null,
   "id": "e868edc7",
   "metadata": {},
   "outputs": [],
   "source": [
    "scaler = StandardScaler()\n",
    "scaler.fit(xtrain)\n",
    "X_train_=scaler.transform(xtrain)\n",
    "X_test_=scaler.transform(xtest)\n",
    "X_train=pd.DataFrame(data=X_train_, columns=xtrain.columns)\n",
    "X_test=pd.DataFrame(data=X_test_, columns=xtest.columns)\n",
    "\n",
    "knn = KNeighborsClassifier(n_neighbors=15).fit(X_train,ytrain)\n",
    "\n",
    "pred_knn=knn.predict(X_test)\n",
    "\n",
    "accuracy_knn = accuracy_score(ytest,pred_knn)\n",
    "pred2 = knn.predict(sf)\n",
    "print(\"Accuracy for KNN: {}\".format(accuracy_knn * 100))\n",
    "print(\"\\nClassification Report: \\n\", classification_report(ytest,pred_knn))\n",
    "print(\"\\nPrediction using KNN: {}\".format(pred2))"
   ]
  },
  {
   "cell_type": "code",
   "execution_count": null,
   "id": "65aef1e1",
   "metadata": {},
   "outputs": [],
   "source": [
    "rf = RandomForestClassifier(max_depth=4).fit(xtrain,ytrain)\n",
    "\n",
    "pred_rf = rf.predict(xtest)\n",
    "\n",
    "accuracy_rf = accuracy_score(ytest,pred_rf)\n",
    "pred3 = rf.predict(sf)\n",
    "\n",
    "print(\"Accuracy: {}\".format(accuracy_rf * 100))\n",
    "print(\"\\nClassification Report: \\n\", classification_report(ytest,pred_rf))\n",
    "print(\"\\nPrediction using RF: {}\".format(pred3))"
   ]
  }
 ],
 "metadata": {
  "kernelspec": {
   "display_name": "Python 3 (ipykernel)",
   "language": "python",
   "name": "python3"
  },
  "language_info": {
   "codemirror_mode": {
    "name": "ipython",
    "version": 3
   },
   "file_extension": ".py",
   "mimetype": "text/x-python",
   "name": "python",
   "nbconvert_exporter": "python",
   "pygments_lexer": "ipython3",
   "version": "3.10.4"
  }
 },
 "nbformat": 4,
 "nbformat_minor": 5
}
